{
  "cells": [
    {
      "cell_type": "markdown",
      "metadata": {
        "id": "-xclcis_1ELA"
      },
      "source": [
        "# Homework 2. Machine Translation\n",
        "\n"
      ]
    },
    {
      "cell_type": "markdown",
      "metadata": {
        "id": "dbQuvrAB1ELN"
      },
      "source": [
        "**Deadline:** 18.11.2024 23:59 EET\n",
        "\n",
        "**Submission rules:** Sumbissions are through the [courses page](https://courses.cs.ut.ee/). For this homework, submit:\n",
        "\n",
        "1. this notebook with:\n",
        "    1. full code, outputs, and answers for part 1;\n",
        "    2. answers for part 2;\n",
        "2. for part 2, all the scripts you used for preprocessing, training and translation. (Please give your scripts descriptive names, e.g. `cleaning.py`, `01_cleaning.sh`, `02_sentencepiece.sh`, and not `myscript.sh`);\n",
        "3. the translated test sets (task 6).\n",
        "\n",
        "**Hint.** You can get files from Rocket by using `scp` or, for example, by downloading them from jupyter lab environment (https://jupyter.hpc.ut.ee).\n",
        "\n",
        "**!Do not forget to make a copy of this notebook before starting doing the homework!**\n",
        "\n",
        "**START IN ADVANCE.** Training the model for task 5 may take several hours. There might be queues for the GPUs on Rocket as well, and waiting for your job to start might take much longer than the training itself. Leave yourself some room for error. You might want to use email notifications (`#SBATCH --mail-type=ALL` and `#SBATCH --mail-user=your@email` in your SLURM script; if you don't know what this means, see the guide at the beginning of part 2 of this homework). Then you will have more chance to notice if your job fails.\n",
        "\n",
        "If you feel lost, review the materials of labs 1, 4, and 5, and look into Fairseq's documentation. Feel free to ask a question in Slack (channel `#hw`) if something remains unclear."
      ]
    },
    {
      "cell_type": "markdown",
      "metadata": {
        "id": "HtIsRwHZoPhL"
      },
      "source": [
        "In this homework, we are mostly going back to using existing packages and tools, but will also do some manual data analysis. The homework consists of two parts:\n",
        "\n",
        "1. In part 1, we will pay some extra attention to parallel corpora and their pre-processing.\n",
        "2. In part 2, we will do one full cycle of creating a sequence-to-sequence model for machine translation, starting from downloading data and up to evaluation of the trained model's outputs."
      ]
    },
    {
      "cell_type": "markdown",
      "metadata": {
        "id": "sCqBSkSbsYy8"
      },
      "source": [
        "## Part 1. Data"
      ]
    },
    {
      "cell_type": "markdown",
      "metadata": {
        "id": "xVH3dD1HFoMh"
      },
      "source": [
        "**Note:** Part 1 can be easily done in Colab. Make a copy of this notebook and submit your answers with it."
      ]
    },
    {
      "cell_type": "markdown",
      "metadata": {
        "id": "FvaddO4KncSx"
      },
      "source": [
        "### Task 1. Examining data (1 pt)\n",
        "\n",
        "In this task, we will use the OpenSubtitles corpus, which is comprised of movie and TV subtitles.\n",
        "\n",
        "First, download the OpenSubtitles corpus. Choose a language pair where one language is English and another is some language that you know. Download the corpus fom here: https://opus.nlpl.eu/OpenSubtitles/corpus/version/OpenSubtitles. After specifying the language pair, download the latest bilingual *moses* (uncleaned) version of the dataset. The files you will need are `OpenSubtitles.*.en` and `OpenSubtitles.*.<lang>`, where `<lang>` is the language you picked. These are parallel files where sources and targets are aligned."
      ]
    },
    {
      "cell_type": "markdown",
      "metadata": {
        "id": "ej57Ba8_pKvK"
      },
      "source": [
        "**Question.** Which language pair did you choose?"
      ]
    },
    {
      "cell_type": "markdown",
      "metadata": {
        "id": "T1rJk6hepPKd"
      },
      "source": [
        "**Your answer here:** Ukrainian"
      ]
    },
    {
      "cell_type": "markdown",
      "metadata": {
        "id": "5UznwBEHpX9W"
      },
      "source": [
        "**Task.** Real data is always messy, and it is important to look at your data and know what is there. Print out 10 **randomly selected** sentence pairs from the corpus in a readable format. How many of these 10 pairs are good translations of each other, how many are acceptable, how many are bad? Describe what kind of mismatches you see. Are there any repeating patterns?"
      ]
    },
    {
      "cell_type": "code",
      "execution_count": 1,
      "metadata": {
        "colab": {
          "base_uri": "https://localhost:8080/"
        },
        "id": "5EKbSgGbpocd",
        "outputId": "0a8b6692-b61d-4e3d-825b-d3861668f5c4"
      },
      "outputs": [
        {
          "name": "stdout",
          "output_type": "stream",
          "text": [
            "--2024-11-14 20:02:05--  https://object.pouta.csc.fi/OPUS-CCMatrix/v1/moses/en-uk.txt.zip\n",
            "Resolving object.pouta.csc.fi (object.pouta.csc.fi)... 86.50.254.18, 86.50.254.19\n",
            "Connecting to object.pouta.csc.fi (object.pouta.csc.fi)|86.50.254.18|:443... connected.\n",
            "HTTP request sent, awaiting response... 200 OK\n",
            "Length: 1727045236 (1.6G) [application/zip]\n",
            "Saving to: ‘en-uk.txt.zip’\n",
            "\n",
            "en-uk.txt.zip       100%[===================>]   1.61G  25.1MB/s    in 63s     \n",
            "\n",
            "2024-11-14 20:03:09 (26.2 MB/s) - ‘en-uk.txt.zip’ saved [1727045236/1727045236]\n",
            "\n",
            "Archive:  en-uk.txt.zip\n",
            "  inflating: README                  \n",
            "  inflating: LICENSE                 \n",
            "  inflating: CCMatrix.en-uk.en       \n",
            "  inflating: CCMatrix.en-uk.uk       \n",
            "  inflating: CCMatrix.en-uk.scores   \n"
          ]
        }
      ],
      "source": [
        "#### TODO BEGIN ####\n",
        "dataset_url = \"https://object.pouta.csc.fi/OPUS-CCMatrix/v1/moses/en-uk.txt.zip\"\n",
        "!wget $dataset_url\n",
        "!unzip en-uk.txt.zip\n",
        "\n"
      ]
    },
    {
      "cell_type": "code",
      "execution_count": 1,
      "metadata": {
        "collapsed": true,
        "id": "bpsN0N6kmUMj"
      },
      "outputs": [],
      "source": [
        "with open('/content/CCMatrix.en-uk.uk', 'r') as f:\n",
        "    uk_lines = f.readlines()\n",
        "\n",
        "with open('/content/CCMatrix.en-uk.en', 'r') as f:\n",
        "    en_lines = f.readlines()\n",
        "\n",
        "pairs = list(zip(uk_lines, en_lines))\n"
      ]
    },
    {
      "cell_type": "code",
      "execution_count": 2,
      "metadata": {
        "id": "ESUNKBnOUAXL"
      },
      "outputs": [],
      "source": [
        "uk_lines= []\n",
        "en_lines = []"
      ]
    },
    {
      "cell_type": "code",
      "execution_count": 3,
      "metadata": {
        "colab": {
          "base_uri": "https://localhost:8080/"
        },
        "id": "u6PbZe5zoCv7",
        "outputId": "347acc37-1074-4875-a110-c04df7d89c9c"
      },
      "outputs": [
        {
          "name": "stdout",
          "output_type": "stream",
          "text": [
            "('У волинському місті не хлоруватимуть воду\\n', 'Not chlorinated city water.\\n')\n",
            "('Ніщо не шкодить тому, в кому перебуває Бог.\\n', 'There is nobody that God is indebted to.\\n')\n",
            "(\"В Айдаго-Фоллс розташований офіс Об'єднання виробників картоплі Айдахо та управління 7 округу Департаменту Охорони Здоров'я та Добробуту.\\n\", 'Idaho Falls hosts the headquarters of the United Potato Growers of Idaho and District 7 of the Idaho Department of Health and Welfare.\\n')\n",
            "('Ми мали широкомасштабну визначальну перемогу в електоральному коледжі».\\n', 'We had a large institutional win in California.”\\n')\n",
            "('15 квітня протестуючі блокували площу Франції в Єревані і перекрили вулицю Абовян, де розпочали сидячий страйк.\\n', 'April 15 – The protesters blocked the French Square in Yerevan and blocked Abovyan Street, where they began a sit-in strike.\\n')\n",
            "('Індикатором, успішного лікування є зникнення білої плівки.\\n', 'The indicator, successful treatment is the disappearance of the white film.\\n')\n",
            "('Тепер молочний грот служить об’єктом паломництва для багатьох бездітних матерів.\\n', 'Now the milk grotto is the object of pilgrimage for many childless mothers.\\n')\n",
            "('Колоніальний орден Зірки Італії Лицар Колоніального ордена Королівство Італія 28 квітня 1942\\n', '- Knight of the Colonial Order of the Star of Italy on 28 April 1942\\n')\n",
            "('Це схоже на те коли ви крутите коліщатко мишки при перегляді фотографій.\\n', 'Appears when you hover the mouse over the picture.\\n')\n",
            "('Лозанна 494\\n', 'by lazlo494\\n')\n"
          ]
        }
      ],
      "source": [
        "import random\n",
        "random_lines = random.sample(pairs, 10)\n",
        "for line in random_lines:\n",
        "    print(line)"
      ]
    },
    {
      "cell_type": "code",
      "execution_count": 4,
      "metadata": {
        "colab": {
          "base_uri": "https://localhost:8080/"
        },
        "id": "i2690fjWUOkz",
        "outputId": "3c33d834-d67e-4b52-e951-2ebe6f0fd660"
      },
      "outputs": [
        {
          "name": "stdout",
          "output_type": "stream",
          "text": [
            "20240171\n"
          ]
        }
      ],
      "source": [
        "print(len(pairs))"
      ]
    },
    {
      "cell_type": "code",
      "execution_count": 5,
      "metadata": {
        "id": "-Ym2vvf6XCfA"
      },
      "outputs": [],
      "source": [
        "pairs = pairs[:5000000]"
      ]
    },
    {
      "cell_type": "code",
      "execution_count": null,
      "metadata": {
        "id": "tYfAO2tWmTtL"
      },
      "outputs": [],
      "source": [
        "#### TODO END ####"
      ]
    },
    {
      "cell_type": "markdown",
      "metadata": {
        "id": "YjFZZyVoptPY"
      },
      "source": [
        "How many of these 10 pairs are good translations of each other, how many are acceptable, how many are bad? Describe what kind of mismatches you see. Are there any repeating patterns?\n",
        "\n",
        "**Your answer:** \n",
        "\n",
        "Around a half of the sentences are translated bad, especially in the cases when one of the sentenses has more context which is not directly translatable.\n",
        "There is a trend, that in Ukrainian the same sentense provides more information even if there are the similar or related words used for English version.\n",
        "\n",
        "Otherwise, 2 can be acceptable and 3 are really good. \n",
        "\n",
        "Sometimes, even when some words are a direct translation of each other, they can bring different information based on the context they are in. In this translation it happened for too many times, to consider it as good enough."
      ]
    },
    {
      "cell_type": "markdown",
      "metadata": {
        "id": "pPB0EJLGp1EP"
      },
      "source": [
        "### Task 2. Cleaning (1.5 pt)"
      ]
    },
    {
      "cell_type": "markdown",
      "metadata": {
        "id": "ad2t2t17p8Ln"
      },
      "source": [
        "During the lab, we applied a few simple cleaning steps to our training corpus. In this task, you will try something slightly more sophisticated."
      ]
    },
    {
      "cell_type": "markdown",
      "metadata": {
        "id": "3BTjiKnGqRre"
      },
      "source": [
        "**Task.** Propose one more simple cleaning procedure for a parallel corpus. Your heuristic does not have to solve all our problems and remove all bad sentence pairs. It also does not have to have 0 false positive rate (if it might also remove some good sentence pairs, that's okay). It just has to be lightweight (no solutions involving neural networks) and intuitively seem like it would detect some bad translations.\n",
        "\n",
        "**Hint.** If you are stuck, try downloading the OpenSubtitles corpus in English and some language that you **don't** know. Look at some random sentence pairs. How do you guess if a pair is good or bad? Can you formalize it?"
      ]
    },
    {
      "cell_type": "markdown",
      "metadata": {
        "id": "2e9ZNODAqnb7"
      },
      "source": [
        "**Your answer:** I want to make an additional exploration of the data to clean it based on the lenght rartios, and to remove too long or too short sentences in the dataset."
      ]
    },
    {
      "cell_type": "markdown",
      "metadata": {
        "id": "XACnyRj3qqmF"
      },
      "source": [
        "**Task.** Implement your idea. Apply your code to the OpenSubtitles corpus (if the corpus in the language pair of your choice is very big, you can process a subset of it). Did it work? If it did, bring some examples of bad sentence pairs that it removed."
      ]
    },
    {
      "cell_type": "code",
      "execution_count": 9,
      "metadata": {
        "colab": {
          "base_uri": "https://localhost:8080/",
          "height": 1000
        },
        "id": "m5V4vLU1S7Pw",
        "outputId": "419aef92-fb35-4d11-b984-89c6b9cbfc64"
      },
      "outputs": [
        {
          "name": "stdout",
          "output_type": "stream",
          "text": [
            "Summary Statistics:\n",
            "       English Length  Ukrainian Length  English Word Count  \\\n",
            "count     5000.000000       5000.000000         5000.000000   \n",
            "mean        57.699600         57.024400           10.933600   \n",
            "std         23.805266         24.116843            4.525007   \n",
            "min         13.000000         10.000000            2.000000   \n",
            "25%         41.000000         40.000000            8.000000   \n",
            "50%         53.000000         53.000000           10.000000   \n",
            "75%         70.000000         69.000000           13.000000   \n",
            "max        216.000000        243.000000           37.000000   \n",
            "\n",
            "       Ukrainian Word Count  Length Ratio  \n",
            "count           5000.000000   5000.000000  \n",
            "mean               9.517000      1.041713  \n",
            "std                4.085566      0.241149  \n",
            "min                2.000000      0.397959  \n",
            "25%                7.000000      0.878049  \n",
            "50%                9.000000      1.018868  \n",
            "75%               12.000000      1.184211  \n",
            "max               35.000000      2.323944  \n"
          ]
        },
        {
          "data": {
            "image/png": "[encoded data removed]",
            "text/plain": [
              "<Figure size 640x480 with 1 Axes>"
            ]
          },
          "metadata": {},
          "output_type": "display_data"
        },
        {
          "data": {
            "image/png": "[encoded data removed]",
            "text/plain": [
              "<Figure size 640x480 with 1 Axes>"
            ]
          },
          "metadata": {},
          "output_type": "display_data"
        },
        {
          "data": {
            "image/png": "[encoded data removed]",
            "text/plain": [
              "<Figure size 640x480 with 1 Axes>"
            ]
          },
          "metadata": {},
          "output_type": "display_data"
        },
        {
          "name": "stdout",
          "output_type": "stream",
          "text": [
            "\n",
            "Most Common English Words: [('the', 2794), ('of', 1433), ('and', 1397), ('is', 1327), ('to', 1237), ('God’s', 883), ('you', 718), ('will', 703), ('in', 695), ('not', 581)]\n",
            "Most Common Ukrainian Words: [('і', 1034), ('не', 910), ('що', 666), ('в', 541), ('на', 458), ('з', 457), ('–', 342), ('у', 335), ('до', 320), ('Він', 317)]\n"
          ]
        }
      ],
      "source": [
        "import matplotlib.pyplot as plt\n",
        "import pandas as pd\n",
        "from collections import Counter\n",
        "import numpy as np\n",
        "\n",
        "def exploratory_analysis(pairs):\n",
        "    en_lengths = []\n",
        "    uk_lengths = []\n",
        "    en_word_counts = []\n",
        "    uk_word_counts = []\n",
        "\n",
        "    for uk, en in pairs:\n",
        "        en, uk = en.strip(), uk.strip()\n",
        "        en_lengths.append(len(en))\n",
        "        uk_lengths.append(len(uk))\n",
        "\n",
        "        en_word_counts.append(len(en.split()))\n",
        "        uk_word_counts.append(len(uk.split()))\n",
        "\n",
        "    df = pd.DataFrame({\n",
        "        'English Length': en_lengths,\n",
        "        'Ukrainian Length': uk_lengths,\n",
        "        'English Word Count': en_word_counts,\n",
        "        'Ukrainian Word Count': uk_word_counts,\n",
        "    })\n",
        "    df['Length Ratio'] = df['English Length'] / df['Ukrainian Length']\n",
        "\n",
        "    print(\"Summary Statistics:\")\n",
        "    print(df.describe())\n",
        "\n",
        "    plt.figure()\n",
        "    plt.hist(df['English Length'], bins=30, alpha=0.5, label='English Length')\n",
        "    plt.hist(df['Ukrainian Length'], bins=30, alpha=0.5, label='Ukrainian Length')\n",
        "    plt.xlabel('Sentence Length (characters)')\n",
        "    plt.ylabel('Frequency')\n",
        "    plt.legend()\n",
        "    plt.title('Sentence Length Distribution')\n",
        "    plt.show()\n",
        "\n",
        "    plt.figure()\n",
        "    plt.hist(df['Length Ratio'].dropna(), bins=30, alpha=0.7)\n",
        "    plt.xlabel('Length Ratio (English/Ukrainian)')\n",
        "    plt.ylabel('Frequency')\n",
        "    plt.title('Length Ratio Distribution')\n",
        "    plt.show()\n",
        "\n",
        "    plt.figure()\n",
        "    plt.hist(df['English Word Count'], bins=30, alpha=0.5, label='English Word Count')\n",
        "    plt.hist(df['Ukrainian Word Count'], bins=30, alpha=0.5, label='Ukrainian Word Count')\n",
        "    plt.xlabel('Sentence Word Count')\n",
        "    plt.ylabel('Frequency')\n",
        "    plt.legend()\n",
        "    plt.title('Sentence Word Count Distribution')\n",
        "    plt.show()\n",
        "\n",
        "    en_words = Counter(\" \".join([en for _ , en in pairs]).split()).most_common(10)\n",
        "    uk_words = Counter(\" \".join([uk for uk, _ in pairs]).split()).most_common(10)\n",
        "\n",
        "    print(\"\\nMost Common English Words:\", en_words)\n",
        "    print(\"Most Common Ukrainian Words:\", uk_words)\n",
        "\n",
        "exploratory_analysis(pairs[:5000])\n"
      ]
    },
    {
      "cell_type": "code",
      "execution_count": 12,
      "metadata": {
        "id": "t9rer17Tqyus"
      },
      "outputs": [],
      "source": [
        "#### TODO BEGIN ####\n",
        "def clean_parallel_corpus(pairs, length_ratio_min=0.7, length_ratio_max=1.3,\n",
        "                          min_length=15, max_length=150, max_word_diff=15):\n",
        "    cleaned_pairs = []\n",
        "    for uk, en in pairs:\n",
        "        en, uk = en.strip(), uk.strip()\n",
        "        en_length, uk_length = len(en), len(uk)\n",
        "        en_word_count, uk_word_count = len(en.split()), len(uk.split())\n",
        "        length_ratio = en_length / uk_length if uk_length > 0 else 0\n",
        "\n",
        "        if (min_length <= en_length <= max_length and\n",
        "            min_length <= uk_length <= max_length and\n",
        "            length_ratio_min <= length_ratio <= length_ratio_max and\n",
        "            abs(en_word_count - uk_word_count) <= max_word_diff):\n",
        "\n",
        "            cleaned_pairs.append((uk, en))\n",
        "\n",
        "    return cleaned_pairs\n",
        "\n",
        "#### TODO END ####"
      ]
    },
    {
      "cell_type": "code",
      "execution_count": 13,
      "metadata": {
        "colab": {
          "base_uri": "https://localhost:8080/"
        },
        "id": "mTJMollJWDGD",
        "outputId": "20054639-68bb-474c-bcb6-e019bdbce62f"
      },
      "outputs": [
        {
          "name": "stdout",
          "output_type": "stream",
          "text": [
            "Number of cleaned pairs: 3528193\n",
            "('ви вже народ дістали своєю брехнею', '[6] For thou hast rejected thy people,')\n",
            "('Говори їм, що робити - і вони здивують тебе своєю винахідливістю\".', \"Tell them what to do, and they'll surprise you with their ingenuity.”\")\n",
            "('Аллах — Прощаючий, Милостивий! (25:68-70)', 'And Allah is Ever Oft\\xadForgiving, Most Merciful.')\n",
            "('Нострадамус сказав, що “багаті помруть багато разів”.', 'Nostradamus said: “the rich would die many times over.”')\n",
            "('Нострадамус сказав, що \"багаті помруть багато разів\".', 'Nostradamus said: “the rich would die many times over.”')\n",
            "('Просіть у Аллага прощення, адже Він Прощаючий, Милосердний.', 'Truly, Allah forgives all sins; He is Oft-Forgiving, Most Merciful.')\n",
            "('Та хто ж більший нечестивець, ніж той, хто зводить наклеп на Аллаха, коли його закликають до ісламу!', 'Who does greater wrong than he who invents falsehood against Allah, when he is called to Islam?')\n",
            "('Це буде на Господню славу, на вічний пам’ятник, який не буде знищений ніколи» (Іс.', 'This will be for the LORD\\'s renown, for an everlasting sign, which will not be destroyed.\"')\n",
            "('\"Ваша віра визначає ваші дії, а ваші дії визначають ваши результати, але спочатку ви повинні повірити...\"', '“Your belief determines your action and your action determines your results, but first you have to believe.”')\n",
            "('Такий був промисел Божий і Її воля.', 'This is God’s design and His will.')\n"
          ]
        }
      ],
      "source": [
        "sample_pairs = pairs\n",
        "cleaned_pairs = clean_parallel_corpus(sample_pairs)\n",
        "\n",
        "print(\"Number of cleaned pairs:\", len(cleaned_pairs))\n",
        "for pair in cleaned_pairs[:10]:\n",
        "    print(pair)"
      ]
    },
    {
      "cell_type": "markdown",
      "metadata": {
        "id": "XMNqUBz-q3J0"
      },
      "source": [
        "**Your answer:** In general, most of the cleaned pairs in the random subset appeared to be well translated, but it can also depend too much on which pairs were choen exactly at this run. Hopefully, my cleaning removed the pairs which are definitely not fitting for my training process."
      ]
    },
    {
      "cell_type": "markdown",
      "metadata": {
        "id": "UQtfVLoEI0F5"
      },
      "source": [
        "### Task 3. Corpus statistics (1.5 pt)"
      ]
    },
    {
      "cell_type": "markdown",
      "metadata": {
        "id": "Xn4CBgSfI6L9"
      },
      "source": [
        "In the lab, we have used the length ratios of source and target sentences to filter out some bad sentence pairs. However, we cannot always expect the ratio to be close to 1. All languages are different, and some use more words than others to express the same meaning.\n",
        "\n",
        "In this task you will examine some corpus statistics. Let us look in more detail at a language pair that we will be dealing with futher on in this homework: Estonian $\\leftrightarrow$ English. We will work with the Europarl corpus that we used in lab 5."
      ]
    },
    {
      "cell_type": "markdown",
      "metadata": {
        "id": "YZrc37QcJaSx"
      },
      "source": [
        "**Task.** Take the Estonian $\\leftrightarrow$ English Europarl corpus. Calculate how many tokens there are in the English side and in the Estonian side. (Tokenize the text beforehand. You can use any tokenizer: `mosestokenizer`, `spaCy`, or anything else.) Calculate how many **distinct** tokens (word types) there are in the English and in the Estonian side."
      ]
    },
    {
      "cell_type": "code",
      "execution_count": 14,
      "metadata": {
        "colab": {
          "base_uri": "https://localhost:8080/"
        },
        "id": "FIPveOg3YqmP",
        "outputId": "ef1ea03c-1f6d-4b62-d806-c42726ba7ace"
      },
      "outputs": [
        {
          "name": "stdout",
          "output_type": "stream",
          "text": [
            "--2024-11-14 20:34:46--  https://object.pouta.csc.fi/OPUS-Europarl/v8/moses/en-et.txt.zip\n",
            "Resolving object.pouta.csc.fi (object.pouta.csc.fi)... 86.50.254.18, 86.50.254.19\n",
            "Connecting to object.pouta.csc.fi (object.pouta.csc.fi)|86.50.254.18|:443... connected.\n",
            "HTTP request sent, awaiting response... 200 OK\n",
            "Length: 61592035 (59M) [application/zip]\n",
            "Saving to: ‘data/en-et.txt.zip’\n",
            "\n",
            "en-et.txt.zip       100%[===================>]  58.74M  7.81MB/s    in 7.5s    \n",
            "\n",
            "2024-11-14 20:34:55 (7.81 MB/s) - ‘data/en-et.txt.zip’ saved [61592035/61592035]\n",
            "\n",
            "Archive:  data/en-et.txt.zip\n",
            "  inflating: data/README             \n",
            "  inflating: data/LICENSE            \n",
            "  inflating: data/Europarl.en-et.en  \n",
            "  inflating: data/Europarl.en-et.et  \n",
            "  inflating: data/Europarl.en-et.xml  \n"
          ]
        }
      ],
      "source": [
        "!mkdir data\n",
        "!wget -P data https://object.pouta.csc.fi/OPUS-Europarl/v8/moses/en-et.txt.zip\n",
        "!unzip data/en-et.txt.zip -d data"
      ]
    },
    {
      "cell_type": "code",
      "execution_count": 15,
      "metadata": {
        "colab": {
          "base_uri": "https://localhost:8080/"
        },
        "id": "OGx-uLbKJeMs",
        "outputId": "afa4ed1e-17de-4b4f-e849-b46a874f0a44"
      },
      "outputs": [
        {
          "name": "stdout",
          "output_type": "stream",
          "text": [
            "Number of lines in English: 651236\n",
            "Number of lines in Estonian: 651236\n"
          ]
        }
      ],
      "source": [
        "#### TODO BEGIN ####\n",
        "with open('data/Europarl.en-et.en', 'r', encoding='utf-8') as file_en, \\\n",
        "     open('data/Europarl.en-et.et', 'r', encoding='utf-8') as file_et:\n",
        "\n",
        "    en_lines = file_en.readlines()\n",
        "    et_lines = file_et.readlines()\n",
        "\n",
        "    print('Number of lines in English:', len(en_lines))\n",
        "    print('Number of lines in Estonian:', len(et_lines))\n",
        "#### TODO END ####"
      ]
    },
    {
      "cell_type": "code",
      "execution_count": 16,
      "metadata": {
        "colab": {
          "base_uri": "https://localhost:8080/"
        },
        "id": "hc0pPBiraNcK",
        "outputId": "b043e064-6c04-49ac-f5b9-35b513d48989"
      },
      "outputs": [
        {
          "name": "stdout",
          "output_type": "stream",
          "text": [
            "Collecting mosestokenizer\n",
            "  Downloading mosestokenizer-1.2.1.tar.gz (37 kB)\n",
            "  Preparing metadata (setup.py) ... \u001b[?25l\u001b[?25hdone\n",
            "Collecting docopt (from mosestokenizer)\n",
            "  Downloading docopt-0.6.2.tar.gz (25 kB)\n",
            "  Preparing metadata (setup.py) ... \u001b[?25l\u001b[?25hdone\n",
            "Collecting openfile (from mosestokenizer)\n",
            "  Downloading openfile-0.0.7-py3-none-any.whl.metadata (1.7 kB)\n",
            "Collecting uctools (from mosestokenizer)\n",
            "  Downloading uctools-1.3.0.tar.gz (4.6 kB)\n",
            "  Preparing metadata (setup.py) ... \u001b[?25l\u001b[?25hdone\n",
            "Collecting toolwrapper (from mosestokenizer)\n",
            "  Downloading toolwrapper-2.1.0.tar.gz (3.2 kB)\n",
            "  Preparing metadata (setup.py) ... \u001b[?25l\u001b[?25hdone\n",
            "Downloading openfile-0.0.7-py3-none-any.whl (2.4 kB)\n",
            "Building wheels for collected packages: mosestokenizer, docopt, toolwrapper, uctools\n",
            "  Building wheel for mosestokenizer (setup.py) ... \u001b[?25l\u001b[?25hdone\n",
            "  Created wheel for mosestokenizer: filename=mosestokenizer-1.2.1-py3-none-any.whl size=49171 sha256=0e281fe8852a0c8c6008dab17acbb5d6190314be6db267340066b2ce3a9e0c9e\n",
            "  Stored in directory: /root/.cache/pip/wheels/80/d8/15/4c5ebbe883513f003cb055a0369c77c9df857023a706f39e70\n",
            "  Building wheel for docopt (setup.py) ... \u001b[?25l\u001b[?25hdone\n",
            "  Created wheel for docopt: filename=docopt-0.6.2-py2.py3-none-any.whl size=13706 sha256=6966e9471a7822a9947910838e9eda67b457baf13afc44091614cbf4a6b2360c\n",
            "  Stored in directory: /root/.cache/pip/wheels/fc/ab/d4/5da2067ac95b36618c629a5f93f809425700506f72c9732fac\n",
            "  Building wheel for toolwrapper (setup.py) ... \u001b[?25l\u001b[?25hdone\n",
            "  Created wheel for toolwrapper: filename=toolwrapper-2.1.0-py3-none-any.whl size=3338 sha256=fb2ed47df8de63010538afdfc19262e1de8e7ae9739b6e116d7eadb45c89bcff\n",
            "  Stored in directory: /root/.cache/pip/wheels/e1/af/b1/99b57a06dda78fdcee86d2e22c64743f3b8df8f31cfc04baf7\n",
            "  Building wheel for uctools (setup.py) ... \u001b[?25l\u001b[?25hdone\n",
            "  Created wheel for uctools: filename=uctools-1.3.0-py3-none-any.whl size=6147 sha256=30a8a778b52c06d123d826bcc6eed1942a0a992a8e4f5a96cbf998815ff9a307\n",
            "  Stored in directory: /root/.cache/pip/wheels/05/ee/10/33257b0801ac6a912c841939032c16da1eb3db377afe1443e5\n",
            "Successfully built mosestokenizer docopt toolwrapper uctools\n",
            "Installing collected packages: toolwrapper, openfile, docopt, uctools, mosestokenizer\n",
            "Successfully installed docopt-0.6.2 mosestokenizer-1.2.1 openfile-0.0.7 toolwrapper-2.1.0 uctools-1.3.0\n"
          ]
        }
      ],
      "source": [
        "!pip install mosestokenizer\n"
      ]
    },
    {
      "cell_type": "code",
      "execution_count": 23,
      "metadata": {
        "id": "a_ztO7kOas4i"
      },
      "outputs": [],
      "source": [
        "from mosestokenizer import MosesTokenizer\n",
        "import matplotlib.pyplot as plt\n",
        "\n",
        "def calculate_sentence_lengths_moses(lines, language):\n",
        "    sentence_lengths = []\n",
        "    with MosesTokenizer(language) as tokenizer:\n",
        "        for line in lines:\n",
        "            tokens = tokenizer(line.strip().lower())\n",
        "            sentence_lengths.append(len(tokens))\n",
        "    return sentence_lengths\n",
        "\n",
        "with open('data/Europarl.en-et.en', 'r', encoding='utf-8') as file_en, \\\n",
        "     open('data/Europarl.en-et.et', 'r', encoding='utf-8') as file_et:\n",
        "\n",
        "    en_lines = file_en.readlines()\n",
        "    et_lines = file_et.readlines()\n",
        "\n",
        "en_sentence_lengths = calculate_sentence_lengths_moses(en_lines[:50000], 'en')\n",
        "et_sentence_lengths = calculate_sentence_lengths_moses(et_lines[:50000], 'et')"
      ]
    },
    {
      "cell_type": "code",
      "execution_count": 24,
      "metadata": {
        "colab": {
          "base_uri": "https://localhost:8080/"
        },
        "id": "y98wgkpFbBMY",
        "outputId": "1cc1959a-7a79-4f90-9c27-27e98c2b283d"
      },
      "outputs": [
        {
          "name": "stdout",
          "output_type": "stream",
          "text": [
            "English Sentence Lengths:\n",
            "Minimum: 1\n",
            "Maximum: 214\n",
            "Average: 26.16844\n",
            "\n",
            "Estonian Sentence Lengths:\n",
            "Minimum: 1\n",
            "Maximum: 122\n",
            "Average: 19.62808\n"
          ]
        }
      ],
      "source": [
        "print(\"English Sentence Lengths:\")\n",
        "print(\"Minimum:\", min(en_sentence_lengths))\n",
        "print(\"Maximum:\", max(en_sentence_lengths))\n",
        "print(\"Average:\", sum(en_sentence_lengths) / len(en_sentence_lengths))\n",
        "\n",
        "print(\"\\nEstonian Sentence Lengths:\")\n",
        "print(\"Minimum:\", min(et_sentence_lengths))\n",
        "print(\"Maximum:\", max(et_sentence_lengths))\n",
        "print(\"Average:\", sum(et_sentence_lengths) / len(et_sentence_lengths))"
      ]
    },
    {
      "cell_type": "markdown",
      "metadata": {
        "id": "N6ov0DgMJhLy"
      },
      "source": [
        "**Task.** Plot the distribution of sentence lengths (measured in tokens) in the English and the Estonian side of the corpus. Compare the distributions."
      ]
    },
    {
      "cell_type": "code",
      "execution_count": 25,
      "metadata": {
        "colab": {
          "base_uri": "https://localhost:8080/",
          "height": 564
        },
        "id": "sz2PBtowJoG8",
        "outputId": "c9321e81-95d8-45cf-809e-a98719f14f44"
      },
      "outputs": [
        {
          "data": {
            "image/png": "[encoded data removed]",
            "text/plain": [
              "<Figure size 1200x600 with 1 Axes>"
            ]
          },
          "metadata": {},
          "output_type": "display_data"
        }
      ],
      "source": [
        "#### TODO BEGIN ####\n",
        "plt.figure(figsize=(12, 6))\n",
        "\n",
        "plt.hist(en_sentence_lengths, bins=50, alpha=0.5, label='English Sentence Lengths', color='blue')\n",
        "plt.hist(et_sentence_lengths, bins=50, alpha=0.5, label='Estonian Sentence Lengths', color='orange')\n",
        "\n",
        "plt.xlabel('Sentence Length (in tokens)')\n",
        "plt.ylabel('Frequency')\n",
        "plt.title('Distribution of Sentence Lengths in English and Estonian Sides of the Corpus')\n",
        "plt.legend()\n",
        "plt.show()\n",
        "#### TODO END ####"
      ]
    },
    {
      "cell_type": "markdown",
      "metadata": {
        "id": "462SYoymiL_z"
      },
      "source": [
        "**Question.** What can you say about the difference between English and Estonian languages based on the numbers and the plots?\n",
        "\n",
        "**Your answer:** \n",
        "\n",
        "- Most sentences in both languages are short, clustered between 5 to 30 tokens.\n",
        "\n",
        "- English sentences are a bit longer on average compared to Estonian sentences, English histogram shows more sentences with greater lengths, while Estonian has fewer.\n",
        "\n",
        "- There are very few sentences exceeding 100 tokens, but this is more common in English than Estonian.\n"
      ]
    },
    {
      "cell_type": "markdown",
      "metadata": {
        "id": "Duym8aRn1ELO"
      },
      "source": [
        "## Part 2. Training an Estonian $\\rightarrow$ English translation model"
      ]
    },
    {
      "cell_type": "markdown",
      "metadata": {
        "id": "f0OtGK5GFzWR"
      },
      "source": [
        "**Note:** Part 2 requires creating some models that will take a while to train. You should use GPUs on the Tartu University's High Performance Computing Center servers to do part 2. You have been added as users of the Rocket cluster, which you can access with your UT username and password. For those who are not familiar with Rocket (or working on remote servers in general), we have prepared [a beginner's guide](https://courses.cs.ut.ee/2023/transformers23/fall/Main/Labs?action=download&upname=hpc_guide.pdf). We suggest you read it and do the tasks from it before doing part 2 of the homework.\n",
        "\n",
        "**Please be reasonable when using resources on Rocket.**"
      ]
    },
    {
      "cell_type": "markdown",
      "metadata": {
        "id": "6rYMTnj_1ELP"
      },
      "source": [
        "In part 2 of this homework, we will train an actual machine translation model. In this part, you will create several scripts for the steps of the process. Don't forget to give your scripts **descriptive names** and refer to the submission rules described above when preparing the files for submission."
      ]
    },
    {
      "cell_type": "markdown",
      "metadata": {
        "id": "WXkgRLn81ELP"
      },
      "source": [
        "### Task 4. Preprocessing (2 pt)\n",
        "\n",
        "1. **Download the data.** Go to http://opus.nlpl.eu/. You will need 4 corpora:  OpenSubtitles, Europarl, JRC-Acquis, and EMEA. Download all four corpora for English-Estonian.\n",
        "2. Clean the data.\n",
        "  1. Apply basic cleaning as in lab 5.\n",
        "  2. Optionally, you can also apply your own cleaning procedures you came up with in task 2.\n",
        "3. **Take a subset of the data.** Randomly select 1,500,000 sentence pairs from OpenSubtitles, and 500,000 from each of Europarl, JRC-Acquis, and EMEA (if not using OpusFilter, do not forget that parallel lines have to remain parallel when you shuffle them). Concatenate the corpora.\n",
        "4. Separate a randomly chosen development set of **2,000** sentence pairs and a test set of **2,000** sentence pairs, all remaining sentence pairs go into the training set. (Sentence pairs from all 4 corpora should be present in the development and test sets.)\n",
        "5. Optionally, train a truecasing model and apply it.\n",
        "6. Train a SentencePiece model and apply it. The vocabulary size should be **32,000** units, **shared** between source and target sides (you need to train just one SentencePiece model, not two).\n",
        "\n",
        "Note that you should only use the **training set** to train your truecasing (if using) and SentencePiece models."
      ]
    },
    {
      "cell_type": "code",
      "execution_count": 1,
      "metadata": {
        "colab": {
          "base_uri": "https://localhost:8080/"
        },
        "id": "X_fZxnu7c42z",
        "outputId": "6cbd920c-e14b-40d6-9582-160a71f75321"
      },
      "outputs": [
        {
          "name": "stdout",
          "output_type": "stream",
          "text": [
            "Downloading Europarl...\n",
            "Unzipping Europarl...\n",
            "Europarl downloaded and extracted.\n",
            "\n",
            "Downloading OpenSubtitles...\n",
            "Unzipping OpenSubtitles...\n",
            "OpenSubtitles downloaded and extracted.\n",
            "\n",
            "Downloading JRC-Acquis...\n",
            "Unzipping JRC-Acquis...\n",
            "JRC-Acquis downloaded and extracted.\n",
            "\n",
            "Downloading EMEA...\n",
            "Unzipping EMEA...\n",
            "EMEA downloaded and extracted.\n",
            "\n",
            "All datasets downloaded and extracted successfully.\n"
          ]
        }
      ],
      "source": [
        "import os\n",
        "import urllib.request\n",
        "import zipfile\n",
        "\n",
        "\n",
        "dataset_urls = {\n",
        "    \"Europarl\": \"https://object.pouta.csc.fi/OPUS-Europarl/v8/moses/en-et.txt.zip\",\n",
        "    \"OpenSubtitles\": \"https://object.pouta.csc.fi/OPUS-OpenSubtitles/v2018/moses/en-et.txt.zip\",\n",
        "    \"JRC-Acquis\": \"https://object.pouta.csc.fi/OPUS-JRC-Acquis/v3.0/moses/en-et.txt.zip\",\n",
        "    \"EMEA\": \"https://object.pouta.csc.fi/OPUS-EMEA/v3/moses/en-et.txt.zip\"\n",
        "}\n",
        "\n",
        "main_folder = \"data_task_2\"\n",
        "os.makedirs(main_folder, exist_ok=True)\n",
        "\n",
        "def download_and_unzip(name, url):\n",
        "    zip_path = os.path.join(main_folder, f\"{name}.zip\")\n",
        "    extract_folder = os.path.join(main_folder, name)\n",
        "\n",
        "    print(f\"Downloading {name}...\")\n",
        "    urllib.request.urlretrieve(url, zip_path)\n",
        "\n",
        "    print(f\"Unzipping {name}...\")\n",
        "    os.makedirs(extract_folder, exist_ok=True)\n",
        "    with zipfile.ZipFile(zip_path, 'r') as zip_ref:\n",
        "        zip_ref.extractall(extract_folder)\n",
        "\n",
        "    os.remove(zip_path)\n",
        "    print(f\"{name} downloaded and extracted.\\n\")\n",
        "\n",
        "for name, url in dataset_urls.items():\n",
        "    download_and_unzip(name, url)\n",
        "\n",
        "print(\"All datasets downloaded and extracted successfully.\")\n"
      ]
    },
    {
      "cell_type": "code",
      "execution_count": 2,
      "metadata": {
        "id": "jh9qiRRXfhDB"
      },
      "outputs": [],
      "source": [
        "import os\n",
        "import random\n",
        "\n",
        "datasets = {\n",
        "    \"Europarl\": \"data_task_2/Europarl/Europarl.en-et\",\n",
        "    \"OpenSubtitles\": \"data_task_2/OpenSubtitles/OpenSubtitles.en-et\",\n",
        "    \"JRC-Acquis\": \"data_task_2/JRC-Acquis/JRC-Acquis.en-et\",\n",
        "    \"EMEA\": \"data_task_2/EMEA/EMEA.en-et\"\n",
        "}\n",
        "\n",
        "\n",
        "def deduplicate(list1, list2):\n",
        "    unique = []\n",
        "    repeated = set()\n",
        "    pairs = zip(list1, list2)\n",
        "\n",
        "    for pair in pairs:\n",
        "        if pair in repeated:\n",
        "            continue\n",
        "        else:\n",
        "            unique.append(pair)\n",
        "            repeated.add(pair)\n",
        "\n",
        "    return [entry[0] for entry in unique], [entry[1] for entry in unique]\n",
        "\n",
        "def length_filter(list1, list2, min_length=3, max_length=100):\n",
        "    res1, res2 = [], []\n",
        "    words1 = [sent.split() for sent in list1]\n",
        "    words2 = [sent.split() for sent in list2]\n",
        "\n",
        "    for sent1, sent2 in zip(words1, words2):\n",
        "        if min_length <= len(sent1) <= max_length and min_length <= len(sent2) <= max_length:\n",
        "            res1.append(' '.join(sent1))\n",
        "            res2.append(' '.join(sent2))\n",
        "\n",
        "    return res1, res2\n",
        "\n",
        "def length_ratio_filter(list1, list2, ratio=3):\n",
        "    res1, res2 = [], []\n",
        "\n",
        "    for sent1, sent2 in zip(list1, list2):\n",
        "        if (1 / ratio) <= len(sent1) / len(sent2) <= ratio:\n",
        "            res1.append(sent1)\n",
        "            res2.append(sent2)\n",
        "\n",
        "    return res1, res2"
      ]
    },
    {
      "cell_type": "code",
      "execution_count": 3,
      "metadata": {
        "id": "CNOM2urRe9Uf"
      },
      "outputs": [],
      "source": [
        "def process_dataset(dataset_name, dataset_path):\n",
        "    print(f\"Processing {dataset_name} dataset...\")\n",
        "    with open(f\"{dataset_path}.en\", 'r', encoding='utf-8') as file_en, \\\n",
        "         open(f\"{dataset_path}.et\", 'r', encoding='utf-8') as file_et:\n",
        "\n",
        "        en_lines = file_en.readlines()\n",
        "        et_lines = file_et.readlines()\n",
        "\n",
        "    print(f\"\\nProcessing {dataset_name} dataset:\")\n",
        "    print('Initial number of lines:', len(en_lines))\n",
        "\n",
        "    en_filtered, et_filtered = deduplicate(en_lines, et_lines)\n",
        "    print('Lines after deduplication:', len(en_filtered))\n",
        "\n",
        "    en_filtered, et_filtered = length_filter(en_filtered, et_filtered, min_length=3, max_length=100)\n",
        "    print('Lines after length filtering:', len(en_filtered))\n",
        "\n",
        "    en_filtered, et_filtered = length_ratio_filter(en_filtered, et_filtered, ratio=3)\n",
        "    print('Lines after length ratio filtering:', len(en_filtered))\n",
        "\n",
        "    os.makedirs(\"cleaned_data\", exist_ok=True)\n",
        "    with open(f\"cleaned_data/{dataset_name}.cleaned.en\", 'w', encoding='utf-8') as file_en, \\\n",
        "         open(f\"cleaned_data/{dataset_name}.cleaned.et\", 'w', encoding='utf-8') as file_et:\n",
        "\n",
        "        file_en.writelines([line + '\\n' for line in en_filtered])\n",
        "        file_et.writelines([line + '\\n' for line in et_filtered])\n",
        "\n",
        "    print(f\"Cleaned {dataset_name} dataset saved\")\n"
      ]
    },
    {
      "cell_type": "code",
      "execution_count": 4,
      "metadata": {
        "id": "3y04GtVqhS4x"
      },
      "outputs": [
        {
          "name": "stdout",
          "output_type": "stream",
          "text": [
            "Processing Europarl dataset...\n",
            "\n",
            "Processing Europarl dataset:\n",
            "Initial number of lines: 651236\n",
            "Lines after deduplication: 632152\n",
            "Lines after length filtering: 629587\n",
            "Lines after length ratio filtering: 629345\n",
            "Cleaned Europarl dataset saved\n"
          ]
        }
      ],
      "source": [
        "process_dataset(\"Europarl\", datasets[\"Europarl\"])"
      ]
    },
    {
      "cell_type": "code",
      "execution_count": 5,
      "metadata": {
        "colab": {
          "base_uri": "https://localhost:8080/"
        },
        "id": "_p_BwQKTg-fz",
        "outputId": "1c19f60a-ee36-4364-9d77-f85ac6069b3f"
      },
      "outputs": [
        {
          "name": "stdout",
          "output_type": "stream",
          "text": [
            "Processing OpenSubtitles dataset...\n",
            "\n",
            "Processing OpenSubtitles dataset:\n",
            "Initial number of lines: 12486898\n",
            "Lines after deduplication: 10251072\n",
            "Lines after length filtering: 8596567\n",
            "Lines after length ratio filtering: 8560447\n",
            "Cleaned OpenSubtitles dataset saved\n"
          ]
        }
      ],
      "source": [
        "process_dataset(\"OpenSubtitles\", datasets[\"OpenSubtitles\"])"
      ]
    },
    {
      "cell_type": "code",
      "execution_count": 6,
      "metadata": {
        "id": "aj-EEa2WhUld"
      },
      "outputs": [
        {
          "name": "stdout",
          "output_type": "stream",
          "text": [
            "Processing JRC-Acquis dataset...\n",
            "\n",
            "Processing JRC-Acquis dataset:\n",
            "Initial number of lines: 781770\n",
            "Lines after deduplication: 485723\n",
            "Lines after length filtering: 460522\n",
            "Lines after length ratio filtering: 459447\n",
            "Cleaned JRC-Acquis dataset saved\n"
          ]
        }
      ],
      "source": [
        "process_dataset(\"JRC-Acquis\", datasets[\"JRC-Acquis\"])"
      ]
    },
    {
      "cell_type": "code",
      "execution_count": 7,
      "metadata": {
        "id": "mIFvsMSKhV9_"
      },
      "outputs": [
        {
          "name": "stdout",
          "output_type": "stream",
          "text": [
            "Processing EMEA dataset...\n",
            "\n",
            "Processing EMEA dataset:\n",
            "Initial number of lines: 1021442\n",
            "Lines after deduplication: 333780\n",
            "Lines after length filtering: 285535\n",
            "Lines after length ratio filtering: 277275\n",
            "Cleaned EMEA dataset saved\n"
          ]
        }
      ],
      "source": [
        "process_dataset(\"EMEA\", datasets[\"EMEA\"])"
      ]
    },
    {
      "cell_type": "code",
      "execution_count": 8,
      "metadata": {},
      "outputs": [],
      "source": [
        "import random\n",
        "\n",
        "cleaned_datasets = {\n",
        "    \"OpenSubtitles\": (\"cleaned_data/OpenSubtitles.cleaned.en\", \"cleaned_data/OpenSubtitles.cleaned.et\"),\n",
        "    \"Europarl\": (\"cleaned_data/Europarl.cleaned.en\", \"cleaned_data/Europarl.cleaned.et\"),\n",
        "    \"JRC-Acquis\": (\"cleaned_data/JRC-Acquis.cleaned.en\", \"cleaned_data/JRC-Acquis.cleaned.et\"),\n",
        "    \"EMEA\": (\"cleaned_data/EMEA.cleaned.en\", \"cleaned_data/EMEA.cleaned.et\")\n",
        "}\n",
        "\n",
        "sample_sizes = {\n",
        "    \"OpenSubtitles\": 1500000,\n",
        "    \"Europarl\": 500000,\n",
        "    \"JRC-Acquis\": 500000,\n",
        "    \"EMEA\": 500000\n",
        "}\n"
      ]
    },
    {
      "cell_type": "code",
      "execution_count": 9,
      "metadata": {},
      "outputs": [],
      "source": [
        "\n",
        "def load_and_sample(file_en, file_et, sample_size):\n",
        "    with open(file_en, 'r', encoding='utf-8') as f_en, \\\n",
        "         open(file_et, 'r', encoding='utf-8') as f_et:\n",
        "\n",
        "        en_lines = f_en.readlines()\n",
        "        et_lines = f_et.readlines()\n",
        "\n",
        "    assert len(en_lines) == len(et_lines), \"Mismatch in number of lines between English and Estonian files.\"\n",
        "\n",
        "    pairs = list(zip(en_lines, et_lines))\n",
        "    sampled_pairs = random.sample(pairs, min(sample_size, len(pairs)))\n",
        "\n",
        "    sampled_en, sampled_et = zip(*sampled_pairs)\n",
        "    return list(sampled_en), list(sampled_et)"
      ]
    },
    {
      "cell_type": "code",
      "execution_count": 10,
      "metadata": {
        "id": "4ZAJ_ChYf6fv"
      },
      "outputs": [
        {
          "name": "stdout",
          "output_type": "stream",
          "text": [
            "Sampling 1500000 pairs from OpenSubtitles...\n",
            "Sampling 500000 pairs from Europarl...\n",
            "Sampling 500000 pairs from JRC-Acquis...\n",
            "Sampling 500000 pairs from EMEA...\n"
          ]
        }
      ],
      "source": [
        "all_en, all_et = [], []\n",
        "\n",
        "for dataset_name, (file_en, file_et) in cleaned_datasets.items():\n",
        "    sample_size = sample_sizes[dataset_name]\n",
        "    print(f\"Sampling {sample_size} pairs from {dataset_name}...\")\n",
        "\n",
        "    sampled_en, sampled_et = load_and_sample(file_en, file_et, sample_size)\n",
        "    all_en.extend(sampled_en)\n",
        "    all_et.extend(sampled_et)\n",
        "\n",
        "combined_pairs = list(zip(all_en, all_et))\n",
        "random.shuffle(combined_pairs)\n",
        "\n",
        "final_en, final_et = zip(*combined_pairs)\n",
        "\n",
        "with open(\"cleaned_data/combined_dataset.en\", 'w', encoding='utf-8') as f_en, \\\n",
        "     open(\"cleaned_data/combined_dataset.et\", 'w', encoding='utf-8') as f_et:\n",
        "\n",
        "    f_en.writelines(final_en)\n",
        "    f_et.writelines(final_et)"
      ]
    },
    {
      "cell_type": "code",
      "execution_count": 11,
      "metadata": {},
      "outputs": [],
      "source": [
        "import random\n",
        "with open(\"cleaned_data/combined_dataset.en\", 'r', encoding='utf-8') as f_en, \\\n",
        "     open(\"cleaned_data/combined_dataset.et\", 'r', encoding='utf-8') as f_et:\n",
        "    \n",
        "    all_en = f_en.readlines()\n",
        "    all_et = f_et.readlines()\n",
        "\n",
        "all_pairs = list(zip(all_en, all_et))\n",
        "\n",
        "\n",
        "random.shuffle(all_pairs)"
      ]
    },
    {
      "cell_type": "code",
      "execution_count": 12,
      "metadata": {},
      "outputs": [],
      "source": [
        "dev_set = all_pairs[:2000]\n",
        "test_set = all_pairs[2000:4000]\n",
        "train_set = all_pairs[4000:]\n",
        "\n",
        "dev_en, dev_et = zip(*dev_set)\n",
        "test_en, test_et = zip(*test_set)\n",
        "train_en, train_et = zip(*train_set)"
      ]
    },
    {
      "cell_type": "code",
      "execution_count": 13,
      "metadata": {},
      "outputs": [],
      "source": [
        "with open(\"cleaned_data/train.en\", 'w', encoding='utf-8') as f_train_en, \\\n",
        "     open(\"cleaned_data/train.et\", 'w', encoding='utf-8') as f_train_et:\n",
        "    \n",
        "    f_train_en.writelines(train_en)\n",
        "    f_train_et.writelines(train_et)\n",
        "\n",
        "with open(\"cleaned_data/dev.en\", 'w', encoding='utf-8') as f_dev_en, \\\n",
        "     open(\"cleaned_data/dev.et\", 'w', encoding='utf-8') as f_dev_et:\n",
        "    \n",
        "    f_dev_en.writelines(dev_en)\n",
        "    f_dev_et.writelines(dev_et)\n",
        "\n",
        "with open(\"cleaned_data/test.en\", 'w', encoding='utf-8') as f_test_en, \\\n",
        "     open(\"cleaned_data/test.et\", 'w', encoding='utf-8') as f_test_et:\n",
        "    \n",
        "    f_test_en.writelines(test_en)\n",
        "    f_test_et.writelines(test_et)"
      ]
    },
    {
      "cell_type": "code",
      "execution_count": 15,
      "metadata": {},
      "outputs": [
        {
          "name": "stdout",
          "output_type": "stream",
          "text": [
            "Collecting sentencepiece\n",
            "  Downloading sentencepiece-0.2.0-cp312-cp312-macosx_11_0_arm64.whl.metadata (7.7 kB)\n",
            "Downloading sentencepiece-0.2.0-cp312-cp312-macosx_11_0_arm64.whl (1.2 MB)\n",
            "\u001b[2K   \u001b[90m━━━━━━━━━━━━━━━━━━━━━━━━━━━━━━━━━━━━━━━━\u001b[0m \u001b[32m1.2/1.2 MB\u001b[0m \u001b[31m2.6 MB/s\u001b[0m eta \u001b[36m0:00:00\u001b[0ma \u001b[36m0:00:01\u001b[0m\n",
            "\u001b[?25hInstalling collected packages: sentencepiece\n",
            "Successfully installed sentencepiece-0.2.0\n"
          ]
        }
      ],
      "source": [
        "!pip install sentencepiece\n"
      ]
    },
    {
      "cell_type": "code",
      "execution_count": 16,
      "metadata": {},
      "outputs": [],
      "source": [
        "with open(\"cleaned_data/train.en\", \"r\", encoding=\"utf-8\") as f_en, \\\n",
        "     open(\"cleaned_data/train.et\", \"r\", encoding=\"utf-8\") as f_et, \\\n",
        "     open(\"cleaned_data/train_combined.txt\", \"w\", encoding=\"utf-8\") as f_combined:\n",
        "    \n",
        "    for en_line, et_line in zip(f_en, f_et):\n",
        "        f_combined.write(en_line.strip() + \"\\n\")\n",
        "        f_combined.write(et_line.strip() + \"\\n\")\n"
      ]
    },
    {
      "cell_type": "code",
      "execution_count": 17,
      "metadata": {},
      "outputs": [],
      "source": [
        "import sentencepiece as spm\n",
        "\n",
        "spm.SentencePieceTrainer.train(\n",
        "    input=\"cleaned_data/train_combined.txt\",   \n",
        "    model_prefix=\"sentencepiece\",              \n",
        "    vocab_size=32000,                          \n",
        "    model_type=\"bpe\",                          \n",
        "    character_coverage=1.0\n",
        ")"
      ]
    },
    {
      "cell_type": "code",
      "execution_count": 4,
      "metadata": {},
      "outputs": [],
      "source": [
        "import sentencepiece as spm\n",
        "# Train the SentencePiece model with a timer\n",
        "spm.SentencePieceTrainer.train(\n",
        "    input=\"cleaned_data/train_combined.txt\",   # Use the sampled input file\n",
        "    model_prefix=\"sentencepiece\",              \n",
        "    vocab_size=32000,                          \n",
        "    model_type=\"bpe\",                          \n",
        "    character_coverage=1.0,\n",
        "    input_sentence_size=20000,\n",
        "    num_threads=4,                   # Multi-threading\n",
        "    shuffle_input_sentence=True,     # Shuffle for diversity\n",
        "    hard_vocab_limit=False           # Disable hard vocabulary limit\n",
        ")"
      ]
    },
    {
      "cell_type": "code",
      "execution_count": 5,
      "metadata": {},
      "outputs": [],
      "source": [
        "sp = spm.SentencePieceProcessor(model_file=\"sentencepiece.model\")\n",
        "def apply_sentencepiece(data, sp_model):\n",
        "    return [\" \".join(sp_model.encode(line.strip(), out_type=str)) + \"\\n\" for line in data]"
      ]
    },
    {
      "cell_type": "code",
      "execution_count": 6,
      "metadata": {},
      "outputs": [],
      "source": [
        "with open(\"cleaned_data/train.en\", \"r\", encoding=\"utf-8\") as f_train_en, \\\n",
        "     open(\"cleaned_data/train.et\", \"r\", encoding=\"utf-8\") as f_train_et, \\\n",
        "     open(\"cleaned_data/dev.en\", \"r\", encoding=\"utf-8\") as f_dev_en, \\\n",
        "     open(\"cleaned_data/dev.et\", \"r\", encoding=\"utf-8\") as f_dev_et, \\\n",
        "     open(\"cleaned_data/test.en\", \"r\", encoding=\"utf-8\") as f_test_en, \\\n",
        "     open(\"cleaned_data/test.et\", \"r\", encoding=\"utf-8\") as f_test_et:\n",
        "    \n",
        "    train_en = f_train_en.readlines()\n",
        "    train_et = f_train_et.readlines()\n",
        "    dev_en = f_dev_en.readlines()\n",
        "    dev_et = f_dev_et.readlines()\n",
        "    test_en = f_test_en.readlines()\n",
        "    test_et = f_test_et.readlines()"
      ]
    },
    {
      "cell_type": "code",
      "execution_count": null,
      "metadata": {},
      "outputs": [],
      "source": [
        "train_en_tokenized = apply_sentencepiece(train_en, sp)\n",
        "train_et_tokenized = apply_sentencepiece(train_et, sp)\n",
        "dev_en_tokenized = apply_sentencepiece(dev_en, sp)\n",
        "dev_et_tokenized = apply_sentencepiece(dev_et, sp)\n",
        "test_en_tokenized = apply_sentencepiece(test_en, sp)\n",
        "test_et_tokenized = apply_sentencepiece(test_et, sp)\n",
        "\n",
        "with open(\"sentencepiece/train.sp.en\", \"w\", encoding=\"utf-8\") as f_train_en, \\\n",
        "     open(\"sentencepiece/train.sp.et\", \"w\", encoding=\"utf-8\") as f_train_et:\n",
        "    f_train_en.writelines(train_en_tokenized)\n",
        "    f_train_et.writelines(train_et_tokenized)\n",
        "\n",
        "with open(\"sentencepiece/dev.sp.en\", \"w\", encoding=\"utf-8\") as f_dev_en, \\\n",
        "     open(\"sentencepiece/dev.sp.et\", \"w\", encoding=\"utf-8\") as f_dev_et:\n",
        "    f_dev_en.writelines(dev_en_tokenized)\n",
        "    f_dev_et.writelines(dev_et_tokenized)\n",
        "\n",
        "with open(\"sentencepiece/test.sp.en\", \"w\", encoding=\"utf-8\") as f_test_en, \\\n",
        "     open(\"sentencepiece/test.sp.et\", \"w\", encoding=\"utf-8\") as f_test_et:\n",
        "    f_test_en.writelines(test_en_tokenized)\n",
        "    f_test_et.writelines(test_et_tokenized)"
      ]
    },
    {
      "cell_type": "markdown",
      "metadata": {
        "id": "Pzsac5LnGrEb"
      },
      "source": [
        "**Describe** any details of your preprocessing that you think are important (if you had to do anything differently, encountered some proplems, etc.)"
      ]
    },
    {
      "cell_type": "markdown",
      "metadata": {
        "id": "A9aGMxBeurK1"
      },
      "source": [
        "**Your answer:** ..."
      ]
    },
    {
      "cell_type": "markdown",
      "metadata": {
        "id": "VWSPt9Cl1ELT"
      },
      "source": [
        "### Task 5. Training (2 pt)\n",
        "\n",
        "Install Fairseq into a clean Conda environment, as shown in the guide to HPC. Train a translation model with Fairseq, using the following hyperparameters:\n",
        "\n",
        "* use **Transformer** architecture in the encoder and decoder,\n",
        "* encoder and decoder should consist of **6 layers** each,\n",
        "* **8** attention heads,\n",
        "* initial learning rate is **$5\\cdot10^{-4}$**,\n",
        "* word embeddings in both encoder and decoder should be of size **256**,\n",
        "* embedding dimension for FFN (feed-forward layer) is **1024**,\n",
        "* **adam** optimizer,\n",
        "* **inverse square root** learning rate schedule with **4,000** warmup updates,\n",
        "* vocabulary is **shared** between source and target sides,\n",
        "* maximum number of tokens in one batch is **12,000**,\n",
        "* train your model for **20 epochs**.\n",
        "\n",
        "For all other hyperparameters, you can use the default values. Use 1 GPU on Rocket.\n",
        "\n",
        "If you do everything correctly, your model should have about 38-39 million parameters."
      ]
    },
    {
      "cell_type": "code",
      "execution_count": null,
      "metadata": {},
      "outputs": [],
      "source": [
        "!pip install paramiko"
      ]
    },
    {
      "cell_type": "code",
      "execution_count": 42,
      "metadata": {},
      "outputs": [],
      "source": [
        "import paramiko\n",
        "\n",
        "hostname = \"rocket.hpc.ut.ee\"\n",
        "username = \"hotsko\"\n",
        "password = \"password\"\n",
        "\n",
        "client = paramiko.SSHClient()\n",
        "client.set_missing_host_key_policy(paramiko.AutoAddPolicy())\n",
        "client.connect(hostname, username=username, password=password)\n"
      ]
    },
    {
      "cell_type": "code",
      "execution_count": null,
      "metadata": {},
      "outputs": [],
      "source": [
        "!pip install pip==24\n"
      ]
    },
    {
      "cell_type": "code",
      "execution_count": null,
      "metadata": {},
      "outputs": [],
      "source": [
        "!git clone https://github.com/pytorch/fairseq.git\n",
        "!cd fairseq\n",
        "!pip install --editable ./\n",
        "!pip install tensorboardX\n"
      ]
    },
    {
      "cell_type": "code",
      "execution_count": null,
      "metadata": {},
      "outputs": [],
      "source": [
        "!pip install ipykernel\n",
        "!python -m ipykernel install --user --name=transformers-env --display-name \"Python (transformers-env)\"\n"
      ]
    },
    {
      "cell_type": "code",
      "execution_count": 8,
      "metadata": {},
      "outputs": [],
      "source": [
        "!mkdir data scripts checkpoints logs"
      ]
    },
    {
      "cell_type": "code",
      "execution_count": 4,
      "metadata": {},
      "outputs": [],
      "source": [
        "import time\n",
        "\n",
        "def run_command(command):\n",
        "    _, stdout, stderr = client.exec_command(command)\n",
        "    output = stdout.read().decode()\n",
        "    error = stderr.read().decode()\n",
        "    if error:\n",
        "        print(f\"Error: {error}\")\n",
        "    return output\n",
        "\n",
        "def submit_job(script_path):\n",
        "    print(f\"Submitting job: {script_path}\")\n",
        "    output = run_command(f\"sbatch {script_path}\")\n",
        "    print(output)\n",
        "    job_id = output.strip().split()[-1]\n",
        "    return job_id\n",
        "\n",
        "def monitor_job(job_id):\n",
        "    print(f\"Monitoring job {job_id}...\")\n",
        "    while True:\n",
        "        output = run_command(f\"squeue -j {job_id}\")\n",
        "        if f\"{job_id}\" in output:\n",
        "            print(f\"Job {job_id} is still running...\")\n",
        "            time.sleep(30)\n",
        "        else:\n",
        "            print(f\"Job {job_id} has finished.\")\n",
        "            break\n",
        "\n"
      ]
    },
    {
      "cell_type": "code",
      "execution_count": 51,
      "metadata": {},
      "outputs": [],
      "source": [
        "def upload_scripts():\n",
        "    if client.get_transport() is None or not client.get_transport().is_active():\n",
        "        client.connect(hostname, username=username, password=password)\n",
        "\n",
        "    try:\n",
        "        sftp = client.open_sftp()\n",
        "        print(\"SFTP session established\")\n",
        "        \n",
        "        local_preprocess_script = \"scripts/preprocess.sh\"\n",
        "        remote_preprocess_script = \"transformers-course/scripts/preprocess.sh\"\n",
        "        \n",
        "        local_train_script = \"scripts/train_transformer.sh\"\n",
        "        remote_train_script = \"transformers-course/scripts/train_transformer.sh\"\n",
        "        \n",
        "        local_calculate_bleu = \"scripts/calculate_bleu.sh\"\n",
        "        remote_calculate_bleu = \"transformers-course/scripts/calculate_bleu.sh\"\n",
        "        \n",
        "        local_calculate_bleu2 = \"scripts/calculate_bleu2.sh\"\n",
        "        remote_calculate_bleu2 = \"transformers-course/scripts/calculate_bleu2.sh\"\n",
        "\n",
        "        sftp.put(local_preprocess_script, remote_preprocess_script)\n",
        "        sftp.put(local_train_script, remote_train_script)\n",
        "        sftp.put(local_calculate_bleu, remote_calculate_bleu)\n",
        "        sftp.put(local_calculate_bleu2, remote_calculate_bleu2)\n",
        "\n",
        "        sftp.close()\n",
        "        print(\"Scripts uploaded successfully\")\n",
        "    except Exception as e:\n",
        "        print(f\"Error in SFTP session: {e}\")\n"
      ]
    },
    {
      "cell_type": "code",
      "execution_count": 67,
      "metadata": {},
      "outputs": [
        {
          "data": {
            "text/plain": [
              "<SFTPAttributes: [ size=1940 uid=266151 gid=1000 mode=0o100644 atime=1731964605 mtime=1731964693 ]>"
            ]
          },
          "execution_count": 67,
          "metadata": {},
          "output_type": "execute_result"
        }
      ],
      "source": [
        "local_calculate_bleu = \"scripts/calculate_bleu.sh\"\n",
        "remote_calculate_bleu = \"transformers-course/scripts/calculate_bleu.sh\"\n",
        "sftp = client.open_sftp()\n",
        "sftp.put(local_calculate_bleu, remote_calculate_bleu)"
      ]
    },
    {
      "cell_type": "code",
      "execution_count": 47,
      "metadata": {},
      "outputs": [
        {
          "name": "stdout",
          "output_type": "stream",
          "text": [
            "Local directory exists: True\n"
          ]
        }
      ],
      "source": [
        "import os\n",
        "\n",
        "local_data_folder = \"cleaned_data\"\n",
        "print(f\"Local directory exists: {os.path.exists(local_data_folder)}\")\n"
      ]
    },
    {
      "cell_type": "code",
      "execution_count": 7,
      "metadata": {},
      "outputs": [],
      "source": [
        "import os"
      ]
    },
    {
      "cell_type": "code",
      "execution_count": 9,
      "metadata": {},
      "outputs": [],
      "source": [
        "def upload_data():\n",
        "    if client.get_transport() is None or not client.get_transport().is_active():\n",
        "        client.connect(hostname, username=username, password=password)\n",
        "\n",
        "    try:\n",
        "        sftp = client.open_sftp()\n",
        "        print(\"SFTP session established\")\n",
        "        \n",
        "        local_data_folder = \"cleaned_data\"\n",
        "        remote_data_folder = \"transformers-course/cleaned_data\"\n",
        "\n",
        "        def upload_directory(local_dir, remote_dir):\n",
        "            \n",
        "            for root, _, files in os.walk(local_dir):\n",
        "                relative_path = os.path.relpath(root, local_dir)\n",
        "                remote_path = os.path.join(remote_dir, relative_path).replace(\"\\\\\", \"/\")\n",
        "                print(relative_path, remote_path)\n",
        "\n",
        "                for file in files:\n",
        "                    local_file = os.path.join(root, file)\n",
        "                    if file in [\"dev.en\", \"dev.et\", \"test.en\", \"test.et\", \"train.en\", \"train.et\"]:\n",
        "                        \n",
        "                        remote_file = os.path.join(remote_path, file).replace(\"\\\\\", \"/\").replace(\"/.\", \"\")\n",
        "                        print(f\"Uploading: {local_file} -> {remote_file}\")\n",
        "                        sftp.put(local_file, remote_file)\n",
        "\n",
        "        upload_directory(local_data_folder, remote_data_folder)\n",
        "\n",
        "        sftp.close()\n",
        "        print(\"Data uploaded successfully\")\n",
        "    except Exception as e:\n",
        "        print(f\"Error in SFTP session: {e}\")\n"
      ]
    },
    {
      "cell_type": "code",
      "execution_count": 17,
      "metadata": {},
      "outputs": [],
      "source": [
        "def upload_sp_data():\n",
        "    if client.get_transport() is None or not client.get_transport().is_active():\n",
        "        client.connect(hostname, username=username, password=password)\n",
        "\n",
        "    try:\n",
        "        sftp = client.open_sftp()\n",
        "        print(\"SFTP session established\")\n",
        "        \n",
        "        local_data_folder = \"sentencepiece\"\n",
        "        remote_data_folder = \"transformers-course/sentencepiece\"\n",
        "\n",
        "        def upload_directory(local_dir, remote_dir):\n",
        "            \n",
        "            for root, _, files in os.walk(local_dir):\n",
        "                relative_path = os.path.relpath(root, local_dir)\n",
        "                remote_path = os.path.join(remote_dir, relative_path).replace(\"\\\\\", \"/\")\n",
        "                print(relative_path, remote_path)\n",
        "\n",
        "                for file in files:\n",
        "                    local_file = os.path.join(root, file)\n",
        "                    remote_file = os.path.join(remote_path, file).replace(\"\\\\\", \"/\").replace(\"/.\", \"\")\n",
        "                    print(f\"Uploading: {local_file} -> {remote_file}\")\n",
        "                    sftp.put(local_file, remote_file)\n",
        "\n",
        "        upload_directory(local_data_folder, remote_data_folder)\n",
        "\n",
        "        sftp.close()\n",
        "        print(\"Data uploaded successfully\")\n",
        "    except Exception as e:\n",
        "        print(f\"Error in SFTP session: {e}\")\n"
      ]
    },
    {
      "cell_type": "code",
      "execution_count": 18,
      "metadata": {},
      "outputs": [
        {
          "name": "stdout",
          "output_type": "stream",
          "text": [
            "SFTP session established\n",
            ". transformers-course/sentencepiece/.\n",
            "Uploading: sentencepiece/test.sp.et -> transformers-course/sentencepiece/test.sp.et\n",
            "Uploading: sentencepiece/test.sp.en -> transformers-course/sentencepiece/test.sp.en\n",
            "Uploading: sentencepiece/train.sp.en -> transformers-course/sentencepiece/train.sp.en\n",
            "Uploading: sentencepiece/train.sp.et -> transformers-course/sentencepiece/train.sp.et\n",
            "Uploading: sentencepiece/dev.sp.en -> transformers-course/sentencepiece/dev.sp.en\n",
            "Uploading: sentencepiece/dev.sp.et -> transformers-course/sentencepiece/dev.sp.et\n",
            "Data uploaded successfully\n"
          ]
        }
      ],
      "source": [
        "upload_sp_data()"
      ]
    },
    {
      "cell_type": "code",
      "execution_count": 10,
      "metadata": {},
      "outputs": [
        {
          "name": "stdout",
          "output_type": "stream",
          "text": [
            "SFTP session established\n",
            ". transformers-course/cleaned_data/.\n",
            "Uploading: cleaned_data/dev.en -> transformers-course/cleaned_data/dev.en\n",
            "Uploading: cleaned_data/dev.et -> transformers-course/cleaned_data/dev.et\n",
            "Uploading: cleaned_data/train.et -> transformers-course/cleaned_data/train.et\n",
            "Uploading: cleaned_data/train.en -> transformers-course/cleaned_data/train.en\n",
            "Uploading: cleaned_data/test.et -> transformers-course/cleaned_data/test.et\n",
            "Uploading: cleaned_data/test.en -> transformers-course/cleaned_data/test.en\n",
            "Data uploaded successfully\n"
          ]
        }
      ],
      "source": [
        "upload_data()"
      ]
    },
    {
      "cell_type": "code",
      "execution_count": 44,
      "metadata": {},
      "outputs": [
        {
          "name": "stdout",
          "output_type": "stream",
          "text": [
            "SFTP session established\n",
            "Scripts uploaded successfully\n"
          ]
        }
      ],
      "source": [
        "upload_scripts()"
      ]
    },
    {
      "cell_type": "code",
      "execution_count": 32,
      "metadata": {},
      "outputs": [
        {
          "name": "stdout",
          "output_type": "stream",
          "text": [
            "Submitting job: transformers-course/scripts/preprocess.sh\n",
            "Submitted batch job 52623444\n",
            "\n",
            "Monitoring job 52623444...\n",
            "Job 52623444 is still running...\n",
            "Job 52623444 has finished.\n"
          ]
        }
      ],
      "source": [
        "preprocess_job_id = submit_job(\"transformers-course/scripts/preprocess.sh\")\n",
        "monitor_job(preprocess_job_id)"
      ]
    },
    {
      "cell_type": "code",
      "execution_count": 20,
      "metadata": {},
      "outputs": [
        {
          "name": "stdout",
          "output_type": "stream",
          "text": [
            "Submitting job: transformers-course/scripts/train_transformer.sh\n",
            "Submitted batch job 52623349\n",
            "\n",
            "Monitoring job 52623349...\n",
            "Job 52623349 is still running...\n",
            "Job 52623349 has finished.\n"
          ]
        }
      ],
      "source": [
        "train_job_id = submit_job(\"transformers-course/scripts/train_transformer.sh\")\n",
        "monitor_job(train_job_id)"
      ]
    },
    {
      "cell_type": "code",
      "execution_count": 27,
      "metadata": {},
      "outputs": [],
      "source": [
        "client.close()"
      ]
    },
    {
      "cell_type": "markdown",
      "metadata": {
        "id": "zgFRn8bau-Wp"
      },
      "source": [
        "### Task 6. Calculate your model's BLEU score (2 pt)"
      ]
    },
    {
      "cell_type": "markdown",
      "metadata": {
        "id": "S8N0O62MvbWX"
      },
      "source": [
        "**Task.** In the data preparation step, you separated a test set of 2,000 lines. Preprocess this test set, translate it with the last checkpoint of your model, and postprocess the translation. Compare your translation to the reference translation (the English side of your test set) by calculating the BLEU score with `sacreBLEU`. (Do `pip install sacrebleu` if you don't have the package in your virtual environment.)\n",
        "\n",
        "Use `sacreBLEU` in the following way:\n",
        "\n",
        "`cat hypothesis.en | sacrebleu reference_translation.en`\n",
        "\n",
        "Report the output."
      ]
    },
    {
      "cell_type": "code",
      "execution_count": 38,
      "metadata": {},
      "outputs": [
        {
          "name": "stdout",
          "output_type": "stream",
          "text": [
            "2000\n",
            "2000\n"
          ]
        }
      ],
      "source": [
        "with open(\"sentencepiece/test.sp.en\", \"r\", encoding=\"utf-8\") as f:\n",
        "    test_en_tokenized = f.readlines()\n",
        "\n",
        "with open(\"sentencepiece/test.sp.et\", \"r\", encoding=\"utf-8\") as f:\n",
        "    test_et_tokenized = f.readlines()\n",
        "\n",
        "print(len(test_en_tokenized))\n",
        "print(len(test_et_tokenized))"
      ]
    },
    {
      "cell_type": "markdown",
      "metadata": {
        "id": "swEB-TmbvpCK"
      },
      "source": [
        "**Your answer:** ..."
      ]
    },
    {
      "cell_type": "markdown",
      "metadata": {
        "id": "VcN6K9-10aYi"
      },
      "source": [
        "**Task.** Now let's see how well your model does on data that does not come from the corpora on which the model was trained. Copy the test set from `/gpfs/space/projects/transformers2023/data/test-set/`. There are two files. `test-src.et` contains the Estonian side of the test set. Preprocess this set, translate it with the last checkpoint of your model, postprocess the result. Use `sacreBLEU` to calculate BLEU with reference to `test-ref.en`. Report the output of `sacreBLEU`."
      ]
    },
    {
      "cell_type": "code",
      "execution_count": 45,
      "metadata": {},
      "outputs": [
        {
          "name": "stdout",
          "output_type": "stream",
          "text": [
            "cp: /gpfs/space/projects/transformers2023/data/test-set/test-src.et: No such file or directory\n",
            "cp: /gpfs/space/projects/transformers2023/data/test-set/test-ref.en: No such file or directory\n"
          ]
        }
      ],
      "source": [
        "!cp /gpfs/space/projects/transformers2023/data/test-set/test-src.et ./\n",
        "!cp /gpfs/space/projects/transformers2023/data/test-set/test-ref.en ./"
      ]
    },
    {
      "cell_type": "code",
      "execution_count": 46,
      "metadata": {},
      "outputs": [],
      "source": [
        "remote_path = \"/gpfs/space/projects/transformers2023/data/test-set/\"\n",
        "sftp = client.open_sftp()\n",
        "sftp.get(remote_path + \"test-src.et\", \"test-src.et\")\n",
        "sftp.get(remote_path + \"test-ref.en\", \"test-ref.en\")\n",
        "    "
      ]
    },
    {
      "cell_type": "code",
      "execution_count": 58,
      "metadata": {},
      "outputs": [
        {
          "data": {
            "text/plain": [
              "<SFTPAttributes: [ size=117102 uid=266151 gid=1000 mode=0o100644 atime=1731962817 mtime=1731962817 ]>"
            ]
          },
          "execution_count": 58,
          "metadata": {},
          "output_type": "execute_result"
        }
      ],
      "source": [
        "local_calculate_bleu2_src = \"test-src.et\"\n",
        "remote_calculate_bleu2_src = \"transformers-course/sentencepiece/test-src.et\"\n",
        "sftp = client.open_sftp()\n",
        "\n",
        "sftp.put(local_calculate_bleu2_src, remote_calculate_bleu2_src)\n",
        "\n",
        "local_calculate_bleu2_ref = \"test-ref.en\"\n",
        "remote_calculate_bleu2_ref = \"transformers-course/sentencepiece/test-ref.en\"\n",
        "sftp = client.open_sftp()\n",
        "\n",
        "sftp.put(local_calculate_bleu2_ref, remote_calculate_bleu2_ref)"
      ]
    },
    {
      "cell_type": "code",
      "execution_count": 48,
      "metadata": {},
      "outputs": [],
      "source": [
        "with open('test-src.et', 'r', encoding='utf-8') as f:\n",
        "    lines = f.readlines()\n",
        "\n",
        "import sentencepiece as spm\n",
        "sp = spm.SentencePieceProcessor()\n",
        "sp.load('sentencepiece.model')\n",
        "\n",
        "processed_lines = [sp.encode_as_pieces(line.strip()) for line in lines]\n",
        "\n",
        "with open('test-src.sp.et', 'w', encoding='utf-8') as f:\n",
        "    for pieces in processed_lines:\n",
        "        f.write(' '.join(pieces) + '\\n')"
      ]
    },
    {
      "cell_type": "code",
      "execution_count": 54,
      "metadata": {},
      "outputs": [],
      "source": [
        "with open('test-ref.en', 'r', encoding='utf-8') as f:\n",
        "    lines = f.readlines()\n",
        "processed_lines = [sp.encode_as_pieces(line.strip()) for line in lines]\n",
        "\n",
        "with open('test-ref.sp.en', 'w', encoding='utf-8') as f:\n",
        "    for pieces in processed_lines:\n",
        "        f.write(' '.join(pieces) + '\\n')"
      ]
    },
    {
      "cell_type": "code",
      "execution_count": null,
      "metadata": {},
      "outputs": [],
      "source": [
        "# load test-src"
      ]
    },
    {
      "cell_type": "code",
      "execution_count": 56,
      "metadata": {},
      "outputs": [
        {
          "name": "stdout",
          "output_type": "stream",
          "text": [
            "SFTP session established\n",
            "Scripts uploaded successfully\n"
          ]
        }
      ],
      "source": [
        "def upload_test_data():\n",
        "    if client.get_transport() is None or not client.get_transport().is_active():\n",
        "        client.connect(hostname, username=username, password=password)\n",
        "\n",
        "    try:\n",
        "        sftp = client.open_sftp()\n",
        "        print(\"SFTP session established\")\n",
        "        \n",
        "        local_test_data = \"test-src.sp.et\"\n",
        "        remote_test_data = \"transformers-course/test_bleu_data/test-src.sp.et\"\n",
        "\n",
        "        local_ref_data = \"test-ref.sp.en\"\n",
        "        remote_ref_data = \"transformers-course/test_bleu_data/test-ref.sp.en\"\n",
        "\n",
        "        sftp.put(local_test_data, remote_test_data)\n",
        "        sftp.put(local_ref_data, remote_ref_data)\n",
        "        sftp.close()\n",
        "        print(\"Scripts uploaded successfully\")\n",
        "    except Exception as e:\n",
        "        print(f\"Error in SFTP session: {e}\")\n",
        "\n",
        "upload_test_data()"
      ]
    },
    {
      "cell_type": "code",
      "execution_count": 50,
      "metadata": {},
      "outputs": [
        {
          "data": {
            "text/plain": [
              "<function __main__.upload_sentencepiece_model()>"
            ]
          },
          "execution_count": 50,
          "metadata": {},
          "output_type": "execute_result"
        }
      ],
      "source": [
        "def upload_sentencepiece_model():\n",
        "    if client.get_transport() is None or not client.get_transport().is_active():\n",
        "        client.connect(hostname, username=username, password=password)\n",
        "\n",
        "    try:\n",
        "        sftp = client.open_sftp()\n",
        "        print(\"SFTP session established\")\n",
        "        \n",
        "        local_model = \"sentencepiece.model\"\n",
        "        remote_model = \"transformers-course/sentencepiece/sentencepiece.model\"\n",
        "\n",
        "        sftp.put(local_model, remote_model)\n",
        "        \n",
        "        sftp.close()\n",
        "        print(\"Scripts uploaded successfully\")\n",
        "    except Exception as e:\n",
        "        print(f\"Error in SFTP session: {e}\")\n",
        "\n",
        "upload_sentencepiece_model"
      ]
    },
    {
      "cell_type": "markdown",
      "metadata": {
        "id": "QVXz2IbT0btK"
      },
      "source": [
        "**Your answer:** \n",
        "Firstly, I am processing files locally and put them to cluster for further translation.\n",
        "In second task, I exchanged the files and went with the same script over the new test data.\n",
        "\n",
        "I couldn't manage to add the detokenization directly in the script, therefore the bleu score is not the same how it should have to be.\n",
        "\n",
        "But in the script I left my trial code commented, as I understand how it has to work, but didn't manage to fix it.\n"
      ]
    },
    {
      "attachments": {
        "image.png": {
          "image/png": "[encoded data removed]"
        }
      },
      "cell_type": "markdown",
      "metadata": {},
      "source": [
        "![image.png](attachment:image.png)"
      ]
    },
    {
      "cell_type": "markdown",
      "metadata": {
        "id": "n0CmEOmTwg2L"
      },
      "source": [
        "### Bonus. Manual analysis (2 pt)\n",
        "\n",
        "Even though automatic metrics are widely used to evaluate machine translation quality, they cannot show what kinds of errors the models make. A number provided by an automatic metric is not enough to make informed decisions about how to improve your model. It is always important to have an idea of what exactly your model is doing right and wrong.\n",
        "\n",
        "That is why, in this task, you will manually evaluate your model's performance on the external test set (`/gpfs/space/projects/transformers2023/data/test-set/`) that you translated in task 6."
      ]
    },
    {
      "cell_type": "markdown",
      "metadata": {
        "id": "CtFOj8Emzdha"
      },
      "source": [
        "**Task.** Analyse 5 randomly selected sentences from the translated test set. For each of the 5, report:\n",
        "\n",
        "1. Sentence ID (line number)\n",
        "2. Source sentence (in Estonian)\n",
        "3. Reference translation\n",
        "4. Machine translation (by your model)\n",
        "5. Description of errors in the translation. You may use any system that seems reasonable to you. For instance, you could classify errors as \"word order errors\", \"untranslated words in source\", etc. A description of a sentence can be something like \"it tried to represent meaning, but made grammatical errors\" or \"hypothesis is fluent, but does not represent meaning correctly\".\n",
        "\n",
        "**Hint.** A convenient tool for comparing translations to references: [https://mateo.ivdnt.org/Visualize](https://mateo.ivdnt.org/Visualize)"
      ]
    },
    {
      "cell_type": "code",
      "execution_count": null,
      "metadata": {
        "vscode": {
          "languageId": "powershell"
        }
      },
      "outputs": [],
      "source": [
        " #!/bin/bash\n",
        "\n",
        "SRC_FILE=\"sentencepiece/test-src.et\"\n",
        "HYP_FILE=\"hypothesis.en\"\n",
        "REF_FILE=\"sentencepiece/test-ref.en\"\n",
        "\n",
        "if [ ! -f \"$SRC_FILE\" ] || [ ! -f \"$HYP_FILE\" ] || [ ! -f \"$REF_FILE\" ]; then\n",
        "    echo \"Error: One or more files not found!\"\n",
        "    exit 1\n",
        "fi\n",
        "\n",
        "total_lines=$(wc -l < \"$SRC_FILE\")\n",
        "\n",
        "random_lines=$(shuf -i 1-$total_lines -n 5)\n",
        "\n",
        "echo -e \"Line\\tOriginal (Estonian)\\tHypothesis (Model Translation)\\tActual Translation (Reference)\"\n",
        "\n",
        "\n",
        "for line_num in $random_lines; do\n",
        "    original=$(sed -n \"${line_num}p\" \"$SRC_FILE\")\n",
        "    hypothesis=$(sed -n \"${line_num}p\" \"$HYP_FILE\")\n",
        "    reference=$(sed -n \"${line_num}p\" \"$REF_FILE\")\n",
        "    echo -e \"$line_num\\t$original\\t$hypothesis\\t$reference\"\n",
        "done"
      ]
    },
    {
      "cell_type": "markdown",
      "metadata": {
        "id": "uxRkqHhuzpZ5"
      },
      "source": [
        "**Your answer:** couldn't finalize the translation report completely (some issues with processing + I don't know Estonian), but my idea was to translate with few services the first sentence, to have additional possible options how it can look like not just from reference to have more context."
      ]
    },
    {
      "cell_type": "markdown",
      "metadata": {},
      "source": [
        "In general I could't finish this task but it was interesting to do such comparison and try to work with new languages;)"
      ]
    }
  ],
  "metadata": {
    "colab": {
      "provenance": [],
      "toc_visible": true
    },
    "kernelspec": {
      "display_name": "Python 3",
      "name": "python3"
    },
    "language_info": {
      "codemirror_mode": {
        "name": "ipython",
        "version": 3
      },
      "file_extension": ".py",
      "mimetype": "text/x-python",
      "name": "python",
      "nbconvert_exporter": "python",
      "pygments_lexer": "ipython3",
      "version": "3.12.6"
    }
  },
  "nbformat": 4,
  "nbformat_minor": 0
}
